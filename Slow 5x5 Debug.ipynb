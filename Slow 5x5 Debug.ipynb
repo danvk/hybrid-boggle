{
 "cells": [
  {
   "cell_type": "code",
   "execution_count": 1,
   "id": "34b54b17-ff2e-42ff-8b88-7d0d7114af3f",
   "metadata": {},
   "outputs": [],
   "source": [
    "cells = 'dhlnrw iou bcfgkmpt dhlnrw dhlnrw bcfgkmpt aejsv dhlnrw aejsv aejsv iou aejsv bcfgkmpt iou dhlnrw dhlnrw aejsv dhlnrw aejsv bcfgkmpt aejsv aejsv bcfgkmpt aejsv aejsv'.split(' ')"
   ]
  },
  {
   "cell_type": "code",
   "execution_count": 2,
   "id": "ef7ae7b2-af57-4c71-897c-4d2d9a8cb0d3",
   "metadata": {},
   "outputs": [
    {
     "data": {
      "text/plain": [
       "25"
      ]
     },
     "execution_count": 2,
     "metadata": {},
     "output_type": "execute_result"
    }
   ],
   "source": [
    "len(cells)"
   ]
  },
  {
   "cell_type": "code",
   "execution_count": 3,
   "id": "3b2f18d3-ee6f-49a7-9365-48ff5aa341a5",
   "metadata": {},
   "outputs": [],
   "source": [
    "choices = [(12, 7), (7, 3), (11, 3), (17, 4), (13, 0), (6, 3), (8, 1), (16, 1), (18, 0), (2, 3), (10, 0), (22, 7)]"
   ]
  },
  {
   "cell_type": "code",
   "execution_count": 24,
   "id": "3cdf1393-2239-40f8-a829-daf95c49260c",
   "metadata": {},
   "outputs": [],
   "source": [
    "import time\n",
    "from cpp_boggle import Trie\n",
    "from boggle.dimensional_bogglers import cpp_orderly_tree_builder, cpp_boggler\n",
    "from boggle.split_order import SPLIT_ORDER\n",
    "from boggle.orderly_bound import orderly_bound"
   ]
  },
  {
   "cell_type": "code",
   "execution_count": 5,
   "id": "762436bc-6114-47ef-bc21-cfc5bba69a7a",
   "metadata": {},
   "outputs": [],
   "source": [
    "t = Trie.CreateFromFile('wordlists/enable2k.txt')"
   ]
  },
  {
   "cell_type": "code",
   "execution_count": 6,
   "id": "b703eadd-114f-41a6-b200-a9dd3a07486d",
   "metadata": {},
   "outputs": [
    {
     "data": {
      "text/plain": [
       "388990"
      ]
     },
     "execution_count": 6,
     "metadata": {},
     "output_type": "execute_result"
    }
   ],
   "source": [
    "t.NumNodes()"
   ]
  },
  {
   "cell_type": "code",
   "execution_count": 7,
   "id": "46998a09-a777-4676-8cf1-17525a625146",
   "metadata": {},
   "outputs": [],
   "source": [
    "otb = cpp_orderly_tree_builder(t, (5, 5))"
   ]
  },
  {
   "cell_type": "code",
   "execution_count": 8,
   "id": "f8b4ce96-b25d-4b9e-ae0a-eafb8037a52d",
   "metadata": {},
   "outputs": [],
   "source": [
    "arena = otb.create_arena()"
   ]
  },
  {
   "cell_type": "code",
   "execution_count": 9,
   "id": "f9764cc2-8594-45f3-bb46-ce934630e349",
   "metadata": {},
   "outputs": [],
   "source": [
    "assert otb.ParseBoard(' '.join(cells))"
   ]
  },
  {
   "cell_type": "code",
   "execution_count": 10,
   "id": "bb144970-4372-49a5-8d8d-194c9af45e5b",
   "metadata": {},
   "outputs": [],
   "source": [
    "tree = otb.BuildTree(arena)"
   ]
  },
  {
   "cell_type": "code",
   "execution_count": 11,
   "id": "a092e480-5dcb-4c9d-832c-df5fed66488f",
   "metadata": {},
   "outputs": [
    {
     "data": {
      "text/plain": [
       "235741"
      ]
     },
     "execution_count": 11,
     "metadata": {},
     "output_type": "execute_result"
    }
   ],
   "source": [
    "tree.bound"
   ]
  },
  {
   "cell_type": "code",
   "execution_count": 12,
   "id": "584cb518-c16e-4c74-9ac6-56f0888af637",
   "metadata": {},
   "outputs": [
    {
     "data": {
      "text/plain": [
       "28607568"
      ]
     },
     "execution_count": 12,
     "metadata": {},
     "output_type": "execute_result"
    }
   ],
   "source": [
    "tree.node_count()"
   ]
  },
  {
   "cell_type": "code",
   "execution_count": 13,
   "id": "e380fda0-a2be-4470-bb1b-29edf2ec9171",
   "metadata": {},
   "outputs": [
    {
     "data": {
      "text/plain": [
       "671088640"
      ]
     },
     "execution_count": 13,
     "metadata": {},
     "output_type": "execute_result"
    }
   ],
   "source": [
    "arena.bytes_allocated()"
   ]
  },
  {
   "cell_type": "code",
   "execution_count": 22,
   "id": "60f41884-5bff-4c9b-8f6a-f47a2ac553f4",
   "metadata": {},
   "outputs": [],
   "source": [
    "cell, letter = choices[0]\n",
    "t0s = tree.orderly_force_cell(cell, len(cells[cell]), arena)"
   ]
  },
  {
   "cell_type": "code",
   "execution_count": 23,
   "id": "7139757e-6cc7-48da-aa75-a97dc799f351",
   "metadata": {},
   "outputs": [
    {
     "data": {
      "text/plain": [
       "8"
      ]
     },
     "execution_count": 23,
     "metadata": {},
     "output_type": "execute_result"
    }
   ],
   "source": [
    "len(t0s)"
   ]
  },
  {
   "cell_type": "code",
   "execution_count": 24,
   "id": "11c2ae83-a0ba-4f49-a5bc-960c3252cb1b",
   "metadata": {},
   "outputs": [
    {
     "data": {
      "text/plain": [
       "805306368"
      ]
     },
     "execution_count": 24,
     "metadata": {},
     "output_type": "execute_result"
    }
   ],
   "source": [
    "arena.bytes_allocated()"
   ]
  },
  {
   "cell_type": "code",
   "execution_count": 25,
   "id": "47f5086e-2948-4de0-8296-16e1ff4b6081",
   "metadata": {},
   "outputs": [
    {
     "data": {
      "text/plain": [
       "128.0"
      ]
     },
     "execution_count": 25,
     "metadata": {},
     "output_type": "execute_result"
    }
   ],
   "source": [
    "(805306368 - 671088640)/2**20"
   ]
  },
  {
   "cell_type": "code",
   "execution_count": 27,
   "id": "007936d0-6bc3-42e8-b5f7-a6da6b8e4ef6",
   "metadata": {},
   "outputs": [
    {
     "data": {
      "text/plain": [
       "[(0, 'b', 122832),\n",
       " (1, 'c', 145765),\n",
       " (2, 'f', 126479),\n",
       " (3, 'g', 153909),\n",
       " (4, 'k', 123285),\n",
       " (5, 'm', 144892),\n",
       " (6, 'p', 140128),\n",
       " (7, 't', 188041)]"
      ]
     },
     "execution_count": 27,
     "metadata": {},
     "output_type": "execute_result"
    }
   ],
   "source": [
    "[(i, cells[cell][i], t.bound) for i, t in enumerate(t0s)]"
   ]
  },
  {
   "cell_type": "code",
   "execution_count": 28,
   "id": "1da36cd8-7e08-4328-8e0d-884eeb351029",
   "metadata": {},
   "outputs": [],
   "source": [
    "cell, letter = choices[1]\n",
    "t1s = t0s[7].orderly_force_cell(cell, len(cells[cell]), arena)"
   ]
  },
  {
   "cell_type": "code",
   "execution_count": 29,
   "id": "997a3499-679f-4918-a380-9e9f128b4841",
   "metadata": {},
   "outputs": [
    {
     "data": {
      "text/plain": [
       "6"
      ]
     },
     "execution_count": 29,
     "metadata": {},
     "output_type": "execute_result"
    }
   ],
   "source": [
    "len(t1s)"
   ]
  },
  {
   "cell_type": "code",
   "execution_count": 30,
   "id": "1491730b-d2c3-49a4-b10e-adbe4cd7b2a8",
   "metadata": {},
   "outputs": [
    {
     "data": {
      "text/plain": [
       "872415232"
      ]
     },
     "execution_count": 30,
     "metadata": {},
     "output_type": "execute_result"
    }
   ],
   "source": [
    "arena.bytes_allocated()"
   ]
  },
  {
   "cell_type": "code",
   "execution_count": 31,
   "id": "c75a5265-293e-4a60-8736-88ae6942a536",
   "metadata": {},
   "outputs": [
    {
     "data": {
      "text/plain": [
       "[(0, 'd', 126645),\n",
       " (1, 'h', 112452),\n",
       " (2, 'l', 138507),\n",
       " (3, 'n', 148165),\n",
       " (4, 'r', 142826),\n",
       " (5, 'w', 104782)]"
      ]
     },
     "execution_count": 31,
     "metadata": {},
     "output_type": "execute_result"
    }
   ],
   "source": [
    "[(i, cells[cell][i], t.bound) for i, t in enumerate(t1s)]"
   ]
  },
  {
   "cell_type": "code",
   "execution_count": 32,
   "id": "cd399242-6502-40db-89d6-47e058c95304",
   "metadata": {},
   "outputs": [],
   "source": [
    "cell, letter = choices[2]\n",
    "t2s = t1s[choices[1][1]].orderly_force_cell(cell, len(cells[cell]), arena)"
   ]
  },
  {
   "cell_type": "code",
   "execution_count": 33,
   "id": "48bb1334-47de-4133-995d-2af613fa81dc",
   "metadata": {},
   "outputs": [
    {
     "data": {
      "text/plain": [
       "872415232"
      ]
     },
     "execution_count": 33,
     "metadata": {},
     "output_type": "execute_result"
    }
   ],
   "source": [
    "arena.bytes_allocated()"
   ]
  },
  {
   "cell_type": "code",
   "execution_count": 34,
   "id": "09d21ae9-412e-4ffd-b608-07a5999f2540",
   "metadata": {},
   "outputs": [
    {
     "data": {
      "text/plain": [
       "[(0, 'a', 103952),\n",
       " (1, 'e', 119485),\n",
       " (2, 'j', 77458),\n",
       " (3, 's', 107712),\n",
       " (4, 'v', 83442)]"
      ]
     },
     "execution_count": 34,
     "metadata": {},
     "output_type": "execute_result"
    }
   ],
   "source": [
    "[(i, cells[cell][i], t.bound) for i, t in enumerate(t2s)]"
   ]
  },
  {
   "cell_type": "code",
   "execution_count": 14,
   "id": "5455565d-e4a5-482d-9bb4-bb16d88d6a40",
   "metadata": {},
   "outputs": [],
   "source": [
    "tc = tree\n",
    "for cell, choice in choices:\n",
    "    ts = tc.orderly_force_cell(cell, len(cells[cell]), arena)\n",
    "    tc = ts[choice]"
   ]
  },
  {
   "cell_type": "code",
   "execution_count": 15,
   "id": "29fe072c-97df-43ac-88b0-66c4f7181fa7",
   "metadata": {},
   "outputs": [
    {
     "data": {
      "text/plain": [
       "23596"
      ]
     },
     "execution_count": 15,
     "metadata": {},
     "output_type": "execute_result"
    }
   ],
   "source": [
    "tc.bound"
   ]
  },
  {
   "cell_type": "code",
   "execution_count": 16,
   "id": "b9324b84-6522-4f79-863d-5d8d194e0dce",
   "metadata": {},
   "outputs": [
    {
     "data": {
      "text/plain": [
       "12"
      ]
     },
     "execution_count": 16,
     "metadata": {},
     "output_type": "execute_result"
    }
   ],
   "source": [
    "len(choices)"
   ]
  },
  {
   "cell_type": "code",
   "execution_count": 17,
   "id": "f9934b3b-18df-4b5b-999b-bf4ca2e21fa6",
   "metadata": {},
   "outputs": [
    {
     "data": {
      "text/plain": [
       "50455"
      ]
     },
     "execution_count": 17,
     "metadata": {},
     "output_type": "execute_result"
    }
   ],
   "source": [
    "tc.node_count()"
   ]
  },
  {
   "cell_type": "code",
   "execution_count": 18,
   "id": "a614feb2-33d3-4ec1-ab0d-3ef893cc9557",
   "metadata": {},
   "outputs": [
    {
     "data": {
      "text/plain": [
       "718"
      ]
     },
     "execution_count": 18,
     "metadata": {},
     "output_type": "execute_result"
    }
   ],
   "source": [
    "tc.points"
   ]
  },
  {
   "cell_type": "code",
   "execution_count": 19,
   "id": "fcb7c991-25f3-4463-8bc1-115f5605d3f7",
   "metadata": {},
   "outputs": [
    {
     "data": {
      "text/plain": [
       "896.0"
      ]
     },
     "execution_count": 19,
     "metadata": {},
     "output_type": "execute_result"
    }
   ],
   "source": [
    "arena.bytes_allocated() / 2**20"
   ]
  },
  {
   "cell_type": "code",
   "execution_count": 20,
   "id": "ab5565b5-f810-4713-808c-ad1762cb4d1e",
   "metadata": {},
   "outputs": [],
   "source": [
    "remaining_cells = SPLIT_ORDER[(5,5)][len(choices) :]"
   ]
  },
  {
   "cell_type": "code",
   "execution_count": 21,
   "id": "5518250d-7926-4454-894c-64f991d6f590",
   "metadata": {},
   "outputs": [],
   "source": [
    "b = cpp_boggler(t, (5, 5))"
   ]
  },
  {
   "cell_type": "code",
   "execution_count": 25,
   "id": "5ce8ad03-8e16-471c-b52d-54eaab9ad753",
   "metadata": {},
   "outputs": [
    {
     "name": "stdout",
     "output_type": "stream",
     "text": [
      "elapsed_s=2.6e+01\n"
     ]
    }
   ],
   "source": [
    "start_s = time.time()\n",
    "score_boards, bound_level, elim_level = orderly_bound(tc, (5, 5), 10_000, cells, remaining_cells, choices, b, True)\n",
    "elapsed_s = time.time() - start_s\n",
    "print(f'{elapsed_s=}')"
   ]
  },
  {
   "cell_type": "code",
   "execution_count": 23,
   "id": "065846a2-73f5-4244-b6ae-3db230773ac6",
   "metadata": {},
   "outputs": [
    {
     "data": {
      "text/plain": [
       "0"
      ]
     },
     "execution_count": 23,
     "metadata": {},
     "output_type": "execute_result"
    }
   ],
   "source": [
    "len(score_boards)  # was: 5422207"
   ]
  },
  {
   "cell_type": "code",
   "execution_count": 54,
   "id": "9f34f0c0-39ea-4b07-905d-5af5f6bbec6b",
   "metadata": {},
   "outputs": [
    {
     "data": {
      "text/plain": [
       "[0, 0, 0, 0, 0, 0, 0, 0, 0, 0, 0, 0, 0, 0]"
      ]
     },
     "execution_count": 54,
     "metadata": {},
     "output_type": "execute_result"
    }
   ],
   "source": [
    "elim_level"
   ]
  },
  {
   "cell_type": "code",
   "execution_count": 51,
   "id": "f6ec18ae-8483-4325-8bba-77e9d88cc2ae",
   "metadata": {},
   "outputs": [],
   "source": [
    "import random"
   ]
  },
  {
   "cell_type": "code",
   "execution_count": 52,
   "id": "5e8e49ac-d9ed-4c8b-8f0e-1966c68e232b",
   "metadata": {},
   "outputs": [
    {
     "data": {
      "text/plain": [
       "[(10370, 'lugrrbsneeistirderapvstss'),\n",
       " (10455, 'hugwrpsneaistirneratastes'),\n",
       " (10794, 'lugnrpsnesistilreratastse'),\n",
       " (12005, 'higrrmsnesistilderamjetsj'),\n",
       " (10214, 'nogdrcsnesistirderapeatss'),\n",
       " (13072, 'higrwksneeistirreratsstes'),\n",
       " (10912, 'ligddfsneaistilreratvstes'),\n",
       " (10621, 'higrlmsneeistirderateetss'),\n",
       " (10632, 'dugrrpsnesistilreramsvtes'),\n",
       " (10470, 'rigrrfsnevistirneratsetes')]"
      ]
     },
     "execution_count": 52,
     "metadata": {},
     "output_type": "execute_result"
    }
   ],
   "source": [
    "random.sample(score_boards, 10)"
   ]
  },
  {
   "cell_type": "code",
   "execution_count": 55,
   "id": "00cb7411-c3b5-4954-a2f5-a32621833727",
   "metadata": {},
   "outputs": [],
   "source": [
    "from collections import Counter"
   ]
  },
  {
   "cell_type": "code",
   "execution_count": 58,
   "id": "c1e22bae-bbf2-486a-8dc8-9f59dff6f872",
   "metadata": {},
   "outputs": [],
   "source": [
    "ok_cells = SPLIT_ORDER[(5, 5)][:15]\n",
    "prefixes = Counter()\n",
    "for _, board in score_boards:\n",
    "    b = ''.join(c if i in ok_cells else '.' for i, c in enumerate(board))\n",
    "    prefixes[b] += 1"
   ]
  },
  {
   "cell_type": "code",
   "execution_count": 59,
   "id": "12c2e684-3294-453b-b27b-f9fc06849554",
   "metadata": {},
   "outputs": [
    {
     "data": {
      "text/plain": [
       "[('..g..msne.istirdera...t..', 245483),\n",
       " ('..g..msne.istirrera...t..', 220710),\n",
       " ('..g..psne.istirrera...t..', 209990),\n",
       " ('..g..tsne.istirdera...t..', 190289),\n",
       " ('..g..msne.istilrera...t..', 178194),\n",
       " ('..g..msne.istildera...t..', 177753),\n",
       " ('..g..psne.istirdera...t..', 173283),\n",
       " ('..g..tsne.istirrera...t..', 158485),\n",
       " ('..g..psne.istilrera...t..', 145966),\n",
       " ('..g..tsne.istildera...t..', 123963)]"
      ]
     },
     "execution_count": 59,
     "metadata": {},
     "output_type": "execute_result"
    }
   ],
   "source": [
    "prefixes.most_common(10)"
   ]
  },
  {
   "cell_type": "code",
   "execution_count": 60,
   "id": "78a6ac00-21cf-4f74-a464-d9730119065f",
   "metadata": {},
   "outputs": [],
   "source": [
    "import time"
   ]
  },
  {
   "cell_type": "code",
   "execution_count": 61,
   "id": "e19d6f14-d5b4-421f-8e3d-551a7653ddf2",
   "metadata": {},
   "outputs": [
    {
     "data": {
      "text/plain": [
       "'Fri May  2 12:24:59 2025'"
      ]
     },
     "execution_count": 61,
     "metadata": {},
     "output_type": "execute_result"
    }
   ],
   "source": [
    "time.ctime()"
   ]
  },
  {
   "cell_type": "code",
   "execution_count": 62,
   "id": "257f15b3-e59e-4b60-8de8-d61902b72854",
   "metadata": {},
   "outputs": [
    {
     "data": {
      "text/plain": [
       "time.struct_time(tm_year=2025, tm_mon=5, tm_mday=2, tm_hour=12, tm_min=25, tm_sec=5, tm_wday=4, tm_yday=122, tm_isdst=1)"
      ]
     },
     "execution_count": 62,
     "metadata": {},
     "output_type": "execute_result"
    }
   ],
   "source": [
    "time.localtime()"
   ]
  },
  {
   "cell_type": "code",
   "execution_count": 63,
   "id": "c082afe1-8096-4abd-a51c-07d8e56fef6b",
   "metadata": {},
   "outputs": [
    {
     "data": {
      "text/plain": [
       "'2025-05-02 12:25:17'"
      ]
     },
     "execution_count": 63,
     "metadata": {},
     "output_type": "execute_result"
    }
   ],
   "source": [
    "time.strftime('%Y-%m-%d %H:%M:%S')"
   ]
  },
  {
   "cell_type": "code",
   "execution_count": null,
   "id": "498310b5-4848-43d2-833f-166b03264f7f",
   "metadata": {},
   "outputs": [],
   "source": []
  }
 ],
 "metadata": {
  "kernelspec": {
   "display_name": "Python 3 (ipykernel)",
   "language": "python",
   "name": "python3"
  },
  "language_info": {
   "codemirror_mode": {
    "name": "ipython",
    "version": 3
   },
   "file_extension": ".py",
   "mimetype": "text/x-python",
   "name": "python",
   "nbconvert_exporter": "python",
   "pygments_lexer": "ipython3",
   "version": "3.13.1"
  }
 },
 "nbformat": 4,
 "nbformat_minor": 5
}
